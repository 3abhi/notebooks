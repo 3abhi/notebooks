{
 "cells": [
  {
   "cell_type": "code",
   "execution_count": 20,
   "metadata": {},
   "outputs": [
    {
     "name": "stdout",
     "output_type": "stream",
     "text": [
      "Boston House Prices dataset\n",
      "===========================\n",
      "\n",
      "Notes\n",
      "------\n",
      "Data Set Characteristics:  \n",
      "\n",
      "    :Number of Instances: 506 \n",
      "\n",
      "    :Number of Attributes: 13 numeric/categorical predictive\n",
      "    \n",
      "    :Median Value (attribute 14) is usually the target\n",
      "\n",
      "    :Attribute Information (in order):\n",
      "        - CRIM     per capita crime rate by town\n",
      "        - ZN       proportion of residential land zoned for lots over 25,000 sq.ft.\n",
      "        - INDUS    proportion of non-retail business acres per town\n",
      "        - CHAS     Charles River dummy variable (= 1 if tract bounds river; 0 otherwise)\n",
      "        - NOX      nitric oxides concentration (parts per 10 million)\n",
      "        - RM       average number of rooms per dwelling\n",
      "        - AGE      proportion of owner-occupied units built prior to 1940\n",
      "        - DIS      weighted distances to five Boston employment centres\n",
      "        - RAD      index of accessibility to radial highways\n",
      "        - TAX      full-value property-tax rate per $10,000\n",
      "        - PTRATIO  pupil-teacher ratio by town\n",
      "        - B        1000(Bk - 0.63)^2 where Bk is the proportion of blacks by town\n",
      "        - LSTAT    % lower status of the population\n",
      "        - MEDV     Median value of owner-occupied homes in $1000's\n",
      "\n",
      "    :Missing Attribute Values: None\n",
      "\n",
      "    :Creator: Harrison, D. and Rubinfeld, D.L.\n",
      "\n",
      "This is a copy of UCI ML housing dataset.\n",
      "http://archive.ics.uci.edu/ml/datasets/Housing\n",
      "\n",
      "\n",
      "This dataset was taken from the StatLib library which is maintained at Carnegie Mellon University.\n",
      "\n",
      "The Boston house-price data of Harrison, D. and Rubinfeld, D.L. 'Hedonic\n",
      "prices and the demand for clean air', J. Environ. Economics & Management,\n",
      "vol.5, 81-102, 1978.   Used in Belsley, Kuh & Welsch, 'Regression diagnostics\n",
      "...', Wiley, 1980.   N.B. Various transformations are used in the table on\n",
      "pages 244-261 of the latter.\n",
      "\n",
      "The Boston house-price data has been used in many machine learning papers that address regression\n",
      "problems.   \n",
      "     \n",
      "**References**\n",
      "\n",
      "   - Belsley, Kuh & Welsch, 'Regression diagnostics: Identifying Influential Data and Sources of Collinearity', Wiley, 1980. 244-261.\n",
      "   - Quinlan,R. (1993). Combining Instance-Based and Model-Based Learning. In Proceedings on the Tenth International Conference of Machine Learning, 236-243, University of Massachusetts, Amherst. Morgan Kaufmann.\n",
      "   - many more! (see http://archive.ics.uci.edu/ml/datasets/Housing)\n",
      "\n",
      "0.725851581823\n",
      "('Coefficient: \\n', array([ -1.28060398e-01,   3.77955693e-02,   5.86107797e-02,\n",
      "         3.24007007e+00,  -1.62222676e+01,   3.89352244e+00,\n",
      "        -1.27879944e-02,  -1.42326864e+00,   2.34513082e-01,\n",
      "        -8.20261127e-03,  -9.29950535e-01,   1.19151410e-02,\n",
      "        -5.48489997e-01]))\n",
      "('Intercept: \\n', 33.388062189324678)\n",
      "[ 28.54080212  36.62565764  15.64469728  25.51062031  18.69993288\n",
      "  23.16989566  17.30867875  14.06965841  23.01497472  20.5427518\n",
      "  24.92203654  18.41025124  -6.54645007  21.83847756  19.15383946\n",
      "  26.0500292   20.30589531   5.74605994  40.32757556  17.45352028\n",
      "  27.47933884  30.2215045   10.7949011   23.87549524  17.98144193\n",
      "  16.02720474  23.27997086  14.30148846  22.38531077  19.31097039\n",
      "  22.18149786  25.06170003  25.13835099  18.46803881  16.59154887\n",
      "  17.44624818  30.71588161  20.05123134  23.99122845  24.94696504\n",
      "  13.97841749  31.64627513  42.47559491  17.70684793  26.92939592\n",
      "  17.15848476  13.68288634  26.15317994  20.27750404  29.99628434\n",
      "  21.21700931  34.03973952  15.41317821  25.95801525  39.13894467\n",
      "  22.95965093  18.79607647  33.08023827  24.74652392  12.83432922\n",
      "  22.41204697  30.64039048  31.59811962  16.32875502  20.945447\n",
      "  16.70668735  20.22673282  26.14831122  31.12364567  11.83373651\n",
      "  20.45840884  27.48777665  10.86201045  16.77144505  24.03395641\n",
      "   5.45920104  21.35388565  41.26879584  18.13180254   9.80123568\n",
      "  21.24790941  13.01283854  21.80709652   9.48308795  22.99802712\n",
      "  31.90251845  18.92410104  25.48785217  29.50701718  20.07254008\n",
      "  25.56649165   5.56514456  20.18757359  15.08506914  14.36408016\n",
      "  20.85359593  24.80576037  -0.24410557  13.51807355  15.59026391\n",
      "  22.04059136  24.71012941  10.86324484  19.60584932  23.73663076\n",
      "  12.01797817  18.41277238  25.43724983  20.76392549  24.68749234\n",
      "   7.43443353  18.89740683  21.70437616  27.14904108  31.9351051\n",
      "  15.15282667  34.00800852  12.84435428  21.07032371  28.58608656\n",
      "  15.77588614  24.77512039   3.63303554  23.91978938  25.82712482\n",
      "  23.03845123  25.35039633  33.05913081  20.61275978  38.18749299\n",
      "  14.04156227  25.26258362  17.61198117  20.6114628    9.83981013\n",
      "  21.02659225  22.20095133  32.2930752   31.58044028  15.29055936\n",
      "  16.70715569  29.10855059  25.18547352  16.88470768   6.33213613\n",
      "  26.71106475  23.33943349  17.23149367  13.22458002  39.48685716\n",
      "  16.48401094  18.14067216  25.06961442  23.71076111  22.21030844\n",
      "  21.22445596  16.90084311  23.14804133  28.6969266    6.69132837\n",
      "  23.98431223  17.2099628   21.05643412  25.02065805  27.66239338\n",
      "  20.69541424  40.37042623]\n"
     ]
    }
   ],
   "source": [
    "# Linear Regression\n",
    "\n",
    "from sklearn.datasets import load_boston\n",
    "from sklearn.model_selection import train_test_split\n",
    "from sklearn import linear_model\n",
    "\n",
    "dataset = load_boston()\n",
    "\n",
    "print dataset.DESCR\n",
    "\n",
    "x_train, x_test, y_train, y_test = train_test_split(dataset.data, dataset.target, random_state=42, test_size=0.33)\n",
    "\n",
    "model = linear_model.LinearRegression()\n",
    "# Train the model using the training sets and check score\n",
    "model.fit(x_train, y_train)\n",
    "print model.score(x_test, y_test)\n",
    "\n",
    "print('Coefficient: \\n', model.coef_)\n",
    "print('Intercept: \\n', model.intercept_)\n",
    "\n",
    "#Predict Output\n",
    "predicted= model.predict(x_test)\n",
    "\n",
    "print predicted"
   ]
  },
  {
   "cell_type": "code",
   "execution_count": 19,
   "metadata": {},
   "outputs": [
    {
     "name": "stdout",
     "output_type": "stream",
     "text": [
      "Iris Plants Database\n",
      "====================\n",
      "\n",
      "Notes\n",
      "-----\n",
      "Data Set Characteristics:\n",
      "    :Number of Instances: 150 (50 in each of three classes)\n",
      "    :Number of Attributes: 4 numeric, predictive attributes and the class\n",
      "    :Attribute Information:\n",
      "        - sepal length in cm\n",
      "        - sepal width in cm\n",
      "        - petal length in cm\n",
      "        - petal width in cm\n",
      "        - class:\n",
      "                - Iris-Setosa\n",
      "                - Iris-Versicolour\n",
      "                - Iris-Virginica\n",
      "    :Summary Statistics:\n",
      "\n",
      "    ============== ==== ==== ======= ===== ====================\n",
      "                    Min  Max   Mean    SD   Class Correlation\n",
      "    ============== ==== ==== ======= ===== ====================\n",
      "    sepal length:   4.3  7.9   5.84   0.83    0.7826\n",
      "    sepal width:    2.0  4.4   3.05   0.43   -0.4194\n",
      "    petal length:   1.0  6.9   3.76   1.76    0.9490  (high!)\n",
      "    petal width:    0.1  2.5   1.20  0.76     0.9565  (high!)\n",
      "    ============== ==== ==== ======= ===== ====================\n",
      "\n",
      "    :Missing Attribute Values: None\n",
      "    :Class Distribution: 33.3% for each of 3 classes.\n",
      "    :Creator: R.A. Fisher\n",
      "    :Donor: Michael Marshall (MARSHALL%PLU@io.arc.nasa.gov)\n",
      "    :Date: July, 1988\n",
      "\n",
      "This is a copy of UCI ML iris datasets.\n",
      "http://archive.ics.uci.edu/ml/datasets/Iris\n",
      "\n",
      "The famous Iris database, first used by Sir R.A Fisher\n",
      "\n",
      "This is perhaps the best known database to be found in the\n",
      "pattern recognition literature.  Fisher's paper is a classic in the field and\n",
      "is referenced frequently to this day.  (See Duda & Hart, for example.)  The\n",
      "data set contains 3 classes of 50 instances each, where each class refers to a\n",
      "type of iris plant.  One class is linearly separable from the other 2; the\n",
      "latter are NOT linearly separable from each other.\n",
      "\n",
      "References\n",
      "----------\n",
      "   - Fisher,R.A. \"The use of multiple measurements in taxonomic problems\"\n",
      "     Annual Eugenics, 7, Part II, 179-188 (1936); also in \"Contributions to\n",
      "     Mathematical Statistics\" (John Wiley, NY, 1950).\n",
      "   - Duda,R.O., & Hart,P.E. (1973) Pattern Classification and Scene Analysis.\n",
      "     (Q327.D83) John Wiley & Sons.  ISBN 0-471-22361-1.  See page 218.\n",
      "   - Dasarathy, B.V. (1980) \"Nosing Around the Neighborhood: A New System\n",
      "     Structure and Classification Rule for Recognition in Partially Exposed\n",
      "     Environments\".  IEEE Transactions on Pattern Analysis and Machine\n",
      "     Intelligence, Vol. PAMI-2, No. 1, 67-71.\n",
      "   - Gates, G.W. (1972) \"The Reduced Nearest Neighbor Rule\".  IEEE Transactions\n",
      "     on Information Theory, May 1972, 431-433.\n",
      "   - See also: 1988 MLC Proceedings, 54-64.  Cheeseman et al\"s AUTOCLASS II\n",
      "     conceptual clustering system finds 3 classes in the data.\n",
      "   - Many, many more ...\n",
      "\n",
      "1.0\n",
      "[1 0 2 1 1 0 1 2 1 1 2 0 0 0 0 1 2 1 1 2 0 2 0 2 2 2 2 2 0 0 0 0 1 0 0 2 1\n",
      " 0 0 0 2 1 1 0 0 1 2 2 1 2]\n"
     ]
    }
   ],
   "source": [
    "# Logistic Regression\n",
    "\n",
    "from sklearn.datasets import load_iris\n",
    "from sklearn.model_selection import train_test_split\n",
    "from sklearn.linear_model import LogisticRegression\n",
    "\n",
    "dataset = load_iris()\n",
    "\n",
    "print dataset.DESCR\n",
    "\n",
    "x_train, x_test, y_train, y_test = train_test_split(dataset.data, dataset.target, random_state=42, test_size=0.33)\n",
    "\n",
    "model = LogisticRegression()\n",
    "# Train the model using the training sets and check score\n",
    "model.fit(x_train, y_train)\n",
    "print model.score(x_test, y_test)\n",
    "#Predict Output\n",
    "predicted= model.predict(x_test)\n",
    "\n",
    "print predicted"
   ]
  },
  {
   "cell_type": "code",
   "execution_count": 1,
   "metadata": {},
   "outputs": [
    {
     "name": "stdout",
     "output_type": "stream",
     "text": [
      "0.96\n",
      "[1 0 2 1 1 0 1 2 1 1 2 0 0 0 0 2 2 1 1 2 0 2 0 2 2 2 2 2 0 0 0 0 1 0 0 2 1\n",
      " 0 0 0 2 1 1 0 0 1 1 2 1 2]\n"
     ]
    }
   ],
   "source": [
    "# Naive Bayes\n",
    "\n",
    "from sklearn.datasets import load_iris\n",
    "from sklearn.model_selection import train_test_split\n",
    "from sklearn.naive_bayes import GaussianNB\n",
    "\n",
    "dataset = load_iris()\n",
    "\n",
    "x_train, x_test, y_train, y_test = train_test_split(dataset.data, dataset.target, random_state=42, test_size=0.33)\n",
    "\n",
    "model = GaussianNB() \n",
    "# Train the model using the training sets and check score\n",
    "model.fit(x_train, y_train)\n",
    "print model.score(x_test, y_test)\n",
    "#Predict Output\n",
    "predicted= model.predict(x_test)\n",
    "\n",
    "print predicted"
   ]
  },
  {
   "cell_type": "code",
   "execution_count": 4,
   "metadata": {},
   "outputs": [
    {
     "data": {
      "text/plain": [
       "array([[ 5.1,  3.8,  1.9,  0.4],\n",
       "       [ 4.8,  3.4,  1.9,  0.2],\n",
       "       [ 5.5,  4.2,  1.4,  0.2],\n",
       "       [ 4.5,  2.3,  1.3,  0.3],\n",
       "       [ 5.8,  4. ,  1.2,  0.2],\n",
       "       [ 5.6,  3. ,  4.5,  1.5],\n",
       "       [ 5. ,  2. ,  3.5,  1. ],\n",
       "       [ 5.4,  3. ,  4.5,  1.5],\n",
       "       [ 6.7,  3. ,  5. ,  1.7],\n",
       "       [ 5.9,  3.2,  4.8,  1.8],\n",
       "       [ 5.1,  2.5,  3. ,  1.1],\n",
       "       [ 6. ,  2.7,  5.1,  1.6],\n",
       "       [ 6.3,  2.5,  4.9,  1.5],\n",
       "       [ 6.1,  2.9,  4.7,  1.4],\n",
       "       [ 6.5,  2.8,  4.6,  1.5],\n",
       "       [ 7. ,  3.2,  4.7,  1.4],\n",
       "       [ 6.1,  3. ,  4.6,  1.4],\n",
       "       [ 5.5,  2.6,  4.4,  1.2],\n",
       "       [ 4.9,  2.4,  3.3,  1. ],\n",
       "       [ 6.9,  3.1,  4.9,  1.5],\n",
       "       [ 6.3,  2.3,  4.4,  1.3],\n",
       "       [ 6.3,  2.8,  5.1,  1.5],\n",
       "       [ 7.7,  2.8,  6.7,  2. ],\n",
       "       [ 6.3,  2.7,  4.9,  1.8],\n",
       "       [ 7.7,  3.8,  6.7,  2.2],\n",
       "       [ 5.7,  2.5,  5. ,  2. ],\n",
       "       [ 6. ,  3. ,  4.8,  1.8],\n",
       "       [ 5.8,  2.7,  5.1,  1.9],\n",
       "       [ 6.2,  3.4,  5.4,  2.3],\n",
       "       [ 6.1,  2.6,  5.6,  1.4],\n",
       "       [ 6. ,  2.2,  5. ,  1.5],\n",
       "       [ 6.3,  3.3,  6. ,  2.5],\n",
       "       [ 6.2,  2.8,  4.8,  1.8],\n",
       "       [ 6.9,  3.1,  5.4,  2.1],\n",
       "       [ 6.5,  3. ,  5.2,  2. ],\n",
       "       [ 7.2,  3. ,  5.8,  1.6],\n",
       "       [ 5.6,  2.8,  4.9,  2. ],\n",
       "       [ 5.9,  3. ,  5.1,  1.8],\n",
       "       [ 4.9,  2.5,  4.5,  1.7]])"
      ]
     },
     "execution_count": 4,
     "metadata": {},
     "output_type": "execute_result"
    }
   ],
   "source": [
    "# Support Vector Machines\n",
    "\n",
    "# Implmentation 1\n",
    "#import the dependencies\n",
    "from sklearn.datasets import load_iris\n",
    "from sklearn.svm import SVC\n",
    "#load dataset\n",
    "dataset = load_iris()\n",
    "data = dataset.data\n",
    "target = dataset.target\n",
    "\n",
    "# Feature scaling to preprocess the data\n",
    "from sklearn.preprocessing import StandardScaler\n",
    "sc = StandardScaler()\n",
    "sc.fit_transform(data)\n",
    "\n",
    "#now let us divide data into training and testing set\n",
    "from sklearn.model_selection import train_test_split\n",
    "X_train, X_test, y_train, y_test = train_test_split(data, target, random_state=42, test_size=0.3)\n",
    "\n",
    "#train a model\n",
    "model = SVC()\n",
    "model.fit(X_train,y_train)\n",
    "\n",
    "from sklearn.metrics import accuracy_score\n",
    "\n",
    "accuracy_score(y_test, model.predict(X_test))\n",
    "\n",
    "model.support_vectors_.shape\n",
    "\n",
    "model.support_vectors_"
   ]
  },
  {
   "cell_type": "code",
   "execution_count": 5,
   "metadata": {},
   "outputs": [
    {
     "name": "stdout",
     "output_type": "stream",
     "text": [
      "1.0\n",
      "[1 0 2 1 1 0 1 2 1 1 2 0 0 0 0 1 2 1 1 2 0 2 0 2 2 2 2 2 0 0 0 0 1 0 0 2 1\n",
      " 0 0 0 2 1 1 0 0 1 2 2 1 2]\n"
     ]
    }
   ],
   "source": [
    "# Support Vector Machines\n",
    "\n",
    "# Implementation 2\n",
    "\n",
    "from sklearn.datasets import load_iris\n",
    "from sklearn.model_selection import train_test_split\n",
    "from sklearn import svm\n",
    "\n",
    "dataset = load_iris()\n",
    "\n",
    "x_train, x_test, y_train, y_test = train_test_split(dataset.data, dataset.target, random_state=42, test_size=0.33)\n",
    "\n",
    "model = svm.SVC() \n",
    "# Train the model using the training sets and check score\n",
    "model.fit(x_train, y_train)\n",
    "print model.score(x_test, y_test)\n",
    "#Predict Output\n",
    "predicted= model.predict(x_test)\n",
    "\n",
    "print predicted"
   ]
  },
  {
   "cell_type": "code",
   "execution_count": 1,
   "metadata": {},
   "outputs": [
    {
     "data": {
      "text/plain": [
       "0.97777777777777775"
      ]
     },
     "execution_count": 1,
     "metadata": {},
     "output_type": "execute_result"
    }
   ],
   "source": [
    "# Decision Tree\n",
    "\n",
    "#import libs and dataset\n",
    "from sklearn.datasets import load_iris\n",
    "from sklearn.tree import DecisionTreeClassifier\n",
    "from sklearn.model_selection import train_test_split\n",
    "\n",
    "dataset = load_iris()\n",
    "X = dataset.data\n",
    "y = dataset.target\n",
    "\n",
    "X_train, X_test, y_train, y_test = train_test_split(X,y,test_size=0.3, random_state=42)\n",
    "\n",
    "model = DecisionTreeClassifier(criterion=\"entropy\", max_depth=3, random_state=42)\n",
    "#decision trees are prone to overfitting thats why we remove some sub-nodes of the tree, that's called \"pruning\"\n",
    "#here, we control depth of the tree using max_depth attribute\n",
    "#random_state- just to make sure we get same results each time we run this code\n",
    "\n",
    "model.fit(X_train, y_train)\n",
    "\n",
    "#test the model\n",
    "model.score(X_test, y_test)"
   ]
  },
  {
   "cell_type": "code",
   "execution_count": 15,
   "metadata": {},
   "outputs": [
    {
     "name": "stdout",
     "output_type": "stream",
     "text": [
      "0.98\n",
      "[1 0 2 1 1 0 1 2 1 1 2 0 0 0 0 1 2 1 1 2 0 2 0 2 2 2 2 2 0 0 0 0 1 0 0 2 1\n",
      " 0 0 0 2 1 1 0 0 1 1 2 1 2]\n"
     ]
    }
   ],
   "source": [
    "# Random Forest\n",
    "\n",
    "from sklearn.datasets import load_iris\n",
    "from sklearn.model_selection import train_test_split\n",
    "from sklearn.ensemble import RandomForestClassifier\n",
    "\n",
    "dataset = load_iris()\n",
    "\n",
    "x_train, x_test, y_train, y_test = train_test_split(dataset.data, dataset.target, random_state=42, test_size=0.33)\n",
    "\n",
    "model = RandomForestClassifier()\n",
    "# Train the model using the training sets and check score\n",
    "model.fit(x_train, y_train)\n",
    "print model.score(x_test, y_test)\n",
    "#Predict Output\n",
    "predicted= model.predict(x_test)\n",
    "\n",
    "print predicted"
   ]
  },
  {
   "cell_type": "code",
   "execution_count": 6,
   "metadata": {},
   "outputs": [
    {
     "name": "stdout",
     "output_type": "stream",
     "text": [
      "0.98\n",
      "[1 0 2 1 1 0 1 2 1 1 2 0 0 0 0 1 2 1 1 2 0 2 0 2 2 2 2 2 0 0 0 0 1 0 0 2 1\n",
      " 0 0 0 2 1 1 0 0 1 1 2 1 2]\n"
     ]
    }
   ],
   "source": [
    "# K-nearest Neighbor\n",
    "\n",
    "from sklearn.datasets import load_iris\n",
    "from sklearn.model_selection import train_test_split\n",
    "from sklearn.neighbors import KNeighborsClassifier\n",
    "\n",
    "dataset = load_iris()\n",
    "\n",
    "x_train, x_test, y_train, y_test = train_test_split(dataset.data, dataset.target, random_state=42, test_size=0.33)\n",
    "\n",
    "model = KNeighborsClassifier(n_neighbors=6)\n",
    "# Train the model using the training sets and check score\n",
    "model.fit(x_train, y_train)\n",
    "print model.score(x_test, y_test)\n",
    "#Predict Output\n",
    "predicted= model.predict(x_test)\n",
    "\n",
    "print predicted"
   ]
  },
  {
   "cell_type": "code",
   "execution_count": 7,
   "metadata": {},
   "outputs": [
    {
     "data": {
      "text/plain": [
       "KMeans(algorithm='auto', copy_x=True, init='k-means++', max_iter=300,\n",
       "    n_clusters=10, n_init=10, n_jobs=1, precompute_distances='auto',\n",
       "    random_state=None, tol=0.0001, verbose=0)"
      ]
     },
     "execution_count": 7,
     "metadata": {},
     "output_type": "execute_result"
    }
   ],
   "source": [
    "# K-means Clustering\n",
    "\n",
    "from sklearn.datasets import load_digits\n",
    "from sklearn.cluster import KMeans\n",
    "from sklearn.preprocessing import StandardScaler\n",
    "\n",
    "digits = load_digits()\n",
    "dataset = digits.data\n",
    "\n",
    "#standardize\n",
    "ss = StandardScaler()\n",
    "dataset = ss.fit_transform(dataset)\n",
    "\n",
    "model = KMeans(n_clusters= 10, init=\"k-means++\", n_init=10)\n",
    "model.fit(dataset)\n"
   ]
  },
  {
   "cell_type": "code",
   "execution_count": 8,
   "metadata": {},
   "outputs": [
    {
     "data": {
      "text/plain": [
       "array([5, 2, 2, ..., 2, 3, 3], dtype=int32)"
      ]
     },
     "execution_count": 8,
     "metadata": {},
     "output_type": "execute_result"
    }
   ],
   "source": [
    "model.labels_   #assigned label(cluster) to each data point"
   ]
  },
  {
   "cell_type": "code",
   "execution_count": 9,
   "metadata": {},
   "outputs": [
    {
     "data": {
      "text/plain": [
       "69511.074479563817"
      ]
     },
     "execution_count": 9,
     "metadata": {},
     "output_type": "execute_result"
    }
   ],
   "source": [
    "model.inertia_  #sum of distances of samples to their closest centroid"
   ]
  },
  {
   "cell_type": "code",
   "execution_count": 10,
   "metadata": {},
   "outputs": [
    {
     "data": {
      "text/plain": [
       "array([[  0.00000000e+00,  -2.76210663e-01,   4.25345444e-01,\n",
       "          4.68688502e-01,  -1.03776898e+00,  -8.41775687e-01,\n",
       "         -4.09723921e-01,  -1.25022923e-01,  -5.90775571e-02,\n",
       "         -3.14669253e-02,   1.73008365e-01,   2.73424898e-01,\n",
       "         -1.39295637e-01,  -6.83467240e-01,  -4.92678266e-01,\n",
       "         -1.30433381e-01,   1.69218278e-01,  -2.65408008e-02,\n",
       "         -1.30628934e-01,   1.46048513e-01,   3.01596370e-01,\n",
       "         -4.12068522e-01,  -4.66979832e-01,  -1.14221844e-01,\n",
       "         -3.33797263e-02,  -4.03626885e-01,  -7.21222873e-01,\n",
       "         -3.93569878e-01,   1.33254503e-01,  -4.14155552e-01,\n",
       "         -5.52921032e-01,  -4.72323823e-02,   0.00000000e+00,\n",
       "         -6.22555311e-01,  -9.74320307e-01,  -5.45499544e-01,\n",
       "          4.07695858e-01,  -7.26530531e-01,  -7.96301568e-01,\n",
       "          0.00000000e+00,  -6.13436689e-02,  -5.31284098e-01,\n",
       "         -9.16158482e-01,  -1.22392675e-01,   8.25816366e-01,\n",
       "         -6.76128924e-01,  -7.05888076e-01,  -4.53487774e-02,\n",
       "         -3.54332626e-02,  -3.19557432e-01,  -1.32370357e-01,\n",
       "          7.28626851e-01,   8.09425198e-01,   3.18686668e-01,\n",
       "          1.08069593e+00,   2.86569876e+00,  -2.35964589e-02,\n",
       "         -2.84806468e-01,   2.12169546e-01,   4.73527789e-01,\n",
       "          3.81992624e-01,   1.24020559e+00,   2.97649547e+00,\n",
       "          4.06296355e+00],\n",
       "       [  0.00000000e+00,  -3.35016487e-01,  -1.07351015e+00,\n",
       "         -2.25237429e+00,  -1.00651855e-01,   1.17612938e+00,\n",
       "          7.09792018e-01,  -6.25263666e-02,  -5.90775571e-02,\n",
       "         -6.09520258e-01,  -1.43893853e+00,  -6.53796682e-01,\n",
       "          5.96123555e-01,   7.43657632e-01,   8.22767061e-01,\n",
       "         -6.33117354e-02,  -4.46250733e-02,  -3.05511997e-01,\n",
       "         -2.49893595e-01,   8.34430000e-01,   6.15516848e-01,\n",
       "          8.02413993e-01,   5.02426602e-01,  -5.08710249e-02,\n",
       "         -3.33797263e-02,   2.68669846e-01,   3.24795868e-01,\n",
       "          4.34982223e-01,   4.78550797e-01,   8.47618762e-01,\n",
       "         -1.41491088e-01,  -4.72323823e-02,   0.00000000e+00,\n",
       "         -1.56106730e-01,  -1.37741083e-01,  -1.68075180e-01,\n",
       "          3.34706190e-01,   4.15941657e-01,  -4.22087292e-01,\n",
       "          0.00000000e+00,  -6.13436689e-02,  -1.80294144e-01,\n",
       "         -5.42849195e-01,  -4.07837799e-01,   6.04284351e-01,\n",
       "          5.06479566e-01,  -5.45926594e-01,  -8.87416172e-02,\n",
       "          1.00621380e-01,  -2.60363246e-01,  -1.09240564e+00,\n",
       "         -9.92706345e-01,   5.04915842e-01,   4.42399892e-01,\n",
       "         -4.01602786e-01,  -2.09785127e-01,   3.69022399e-01,\n",
       "         -2.59428906e-01,  -1.07123337e+00,  -2.19466054e+00,\n",
       "         -5.32845544e-02,   6.55295998e-01,  -3.01641926e-03,\n",
       "         -1.86049206e-01],\n",
       "       [  0.00000000e+00,  -2.82718817e-01,  -1.68638512e-01,\n",
       "          1.93115521e-01,   1.89445169e-01,  -9.82485162e-02,\n",
       "         -3.07487435e-01,  -1.25022923e-01,   6.68066763e-02,\n",
       "         -2.34352392e-01,  -1.52213960e-01,   5.31996910e-01,\n",
       "          5.68185377e-01,   1.64281368e-01,  -1.79852601e-01,\n",
       "         -1.30433381e-01,   8.21595222e-02,  -1.45037709e-01,\n",
       "         -9.20563257e-02,   7.26889556e-01,   7.61333074e-01,\n",
       "          2.55153727e-02,  -3.31708804e-01,  -1.14221844e-01,\n",
       "          2.03708685e-01,  -2.82498712e-01,  -1.93525312e-01,\n",
       "          7.75684073e-01,   5.30474891e-01,  -5.75303505e-01,\n",
       "         -5.98866297e-01,  -4.72323823e-02,   0.00000000e+00,\n",
       "         -4.42902222e-01,  -1.73829132e-02,   8.46339026e-01,\n",
       "          3.90264635e-01,  -1.10329319e+00,  -8.21576801e-01,\n",
       "          0.00000000e+00,  -6.13436689e-02,  -2.46209883e-01,\n",
       "          3.29568455e-01,   7.05417029e-01,   6.28420647e-01,\n",
       "         -6.99610415e-01,  -7.29805718e-01,  -7.58781271e-02,\n",
       "         -3.54332626e-02,  -3.67717950e-02,   2.92604746e-01,\n",
       "          4.75454334e-01,   5.44119653e-01,  -4.59466800e-01,\n",
       "         -5.79016993e-01,  -1.89703525e-01,  -2.35964589e-02,\n",
       "         -2.44069463e-01,  -1.86000563e-01,   2.09196336e-01,\n",
       "          1.72516960e-01,  -3.55997025e-01,  -3.43291442e-01,\n",
       "         -1.93882029e-01],\n",
       "       [  0.00000000e+00,  -1.96189696e-02,   4.98013189e-01,\n",
       "          3.60028571e-01,   2.35654099e-01,   1.63719281e-01,\n",
       "         -1.65614267e-01,  -1.20538121e-01,  -9.69971054e-03,\n",
       "          3.72376005e-01,   6.11268899e-01,  -7.06573138e-01,\n",
       "         -8.37179336e-02,   3.85997833e-01,  -1.18024200e-01,\n",
       "         -1.22004151e-01,  -7.32681436e-03,   2.37631304e-01,\n",
       "         -3.93909236e-02,  -4.79419980e-01,   2.11270241e-01,\n",
       "          3.13528018e-01,  -1.45623939e-01,  -1.14221844e-01,\n",
       "         -3.33797263e-02,  -2.20280699e-01,  -2.73586866e-01,\n",
       "          3.34845856e-01,   5.83948219e-01,   3.48531280e-01,\n",
       "         -2.08005307e-01,  -4.72323823e-02,   0.00000000e+00,\n",
       "         -5.65430671e-01,  -7.84853556e-01,  -5.58092359e-01,\n",
       "         -2.82156481e-01,   5.34962629e-01,   1.82824134e-01,\n",
       "          0.00000000e+00,  -6.13436689e-02,  -4.24405165e-01,\n",
       "         -7.65700939e-01,  -9.29609212e-01,  -8.33590548e-01,\n",
       "          5.98474833e-01,   6.54092874e-01,  -5.84675429e-02,\n",
       "         -3.54332626e-02,   6.26957944e-02,   3.62705260e-02,\n",
       "         -7.17800188e-01,  -5.51492459e-01,   6.57950208e-01,\n",
       "          4.06764729e-01,  -1.41255494e-01,  -2.35964589e-02,\n",
       "         -5.50805145e-02,   4.50489704e-01,   4.62467460e-01,\n",
       "          4.66323637e-01,   3.78645624e-01,  -7.85881913e-02,\n",
       "         -1.70995943e-01],\n",
       "       [  0.00000000e+00,  -2.40222030e-01,   8.44743495e-02,\n",
       "          3.36922210e-01,   5.36896054e-01,   9.63479905e-01,\n",
       "          9.70258852e-01,   8.00401159e-02,  -5.90775571e-02,\n",
       "         -2.03421647e-01,   2.37526203e-01,  -1.04062858e-01,\n",
       "         -5.93722249e-02,   6.47660798e-01,   7.72308097e-01,\n",
       "         -7.02972460e-02,  -4.46250733e-02,  -2.08752627e-01,\n",
       "         -5.35747956e-01,  -7.64724828e-01,  -1.06742132e-01,\n",
       "          4.46089660e-01,   1.39862743e-01,  -1.03902253e-01,\n",
       "         -3.33797263e-02,  -2.26984570e-01,  -4.64284740e-01,\n",
       "         -1.98899114e-01,   3.64257134e-01,   4.51742591e-01,\n",
       "          4.03664707e-01,  -4.72323823e-02,   0.00000000e+00,\n",
       "         -1.74289335e-01,   1.64984356e-01,   6.31899007e-01,\n",
       "          6.86031248e-01,   1.07607140e-01,   1.17778124e-01,\n",
       "          0.00000000e+00,  -6.13436689e-02,  -2.11003832e-01,\n",
       "         -3.79238506e-01,   5.54107450e-01,   5.96859360e-01,\n",
       "         -7.59136363e-01,  -6.78089219e-01,  -8.87416172e-02,\n",
       "         -3.54332626e-02,  -3.62101903e-01,  -7.93880208e-01,\n",
       "          5.34128476e-01,  -3.93529635e-01,  -1.28976147e+00,\n",
       "         -7.54675631e-01,  -2.09785127e-01,  -2.35964589e-02,\n",
       "         -2.26415109e-01,   2.57900924e-01,   1.65873152e-01,\n",
       "         -1.76847887e+00,  -1.08988483e+00,  -4.91285445e-01,\n",
       "         -1.96007519e-01],\n",
       "       [  0.00000000e+00,  -3.10238752e-01,  -2.06177764e-01,\n",
       "          3.03168840e-01,  -1.40191740e-01,  -5.03966912e-01,\n",
       "         -3.99585759e-01,  -1.25022923e-01,  -5.90775571e-02,\n",
       "         -3.46211086e-01,   4.17672645e-01,   3.49905412e-01,\n",
       "          2.38843406e-01,   5.24264003e-01,  -2.45478180e-01,\n",
       "         -1.30433381e-01,  -4.46250733e-02,   3.20429312e-01,\n",
       "          7.71457454e-01,  -2.98969956e-01,  -8.06601146e-01,\n",
       "          6.93198664e-01,   5.32051362e-01,  -1.14221844e-01,\n",
       "         -3.33797263e-02,   9.07972853e-01,   5.85143100e-01,\n",
       "         -1.15219864e+00,  -1.57661191e+00,   2.57254863e-01,\n",
       "          1.12870850e+00,  -4.72323823e-02,   0.00000000e+00,\n",
       "          1.02784152e+00,   6.15056355e-01,  -1.30867433e+00,\n",
       "         -1.73098189e+00,   5.32680477e-03,   1.20443628e+00,\n",
       "          0.00000000e+00,  -6.13436689e-02,   6.54131511e-01,\n",
       "          9.81663232e-01,  -8.72074591e-01,  -9.95308509e-01,\n",
       "          5.43552357e-01,   5.58944660e-01,  -8.87416172e-02,\n",
       "         -3.54332626e-02,   5.98517672e-02,   9.90363911e-01,\n",
       "          7.42005066e-02,   1.70542961e-01,   7.50982414e-01,\n",
       "         -2.66237735e-01,  -2.09785127e-01,  -2.35964589e-02,\n",
       "         -2.93066651e-01,  -2.70076231e-01,   3.39317333e-01,\n",
       "          3.10906680e-01,  -2.21901899e-01,  -4.38354242e-01,\n",
       "         -1.96007519e-01],\n",
       "       [  0.00000000e+00,  -3.35016487e-01,  -1.03539783e+00,\n",
       "         -1.13254848e+00,   2.66399498e-02,  -6.62050743e-01,\n",
       "         -3.77566606e-01,  -1.25022923e-01,  -5.90775571e-02,\n",
       "         -6.22040945e-01,  -1.33653321e+00,   4.05334058e-01,\n",
       "         -3.38602537e-01,  -1.08398573e+00,  -3.44835825e-01,\n",
       "         -1.00038673e-01,  -4.46250733e-02,  -5.79882179e-01,\n",
       "          8.22433033e-02,   7.85100367e-01,  -3.87679729e-01,\n",
       "         -4.56003150e-01,   4.89453723e-01,   2.87398442e-01,\n",
       "         -3.33797263e-02,   6.66431898e-01,   8.73233817e-01,\n",
       "         -4.93620502e-01,  -5.06599519e-01,   4.60981640e-01,\n",
       "          1.02644116e+00,   8.62213771e-02,   0.00000000e+00,\n",
       "          1.91247019e+00,   1.11992502e+00,   2.46748841e-02,\n",
       "          4.24151137e-01,   9.50199978e-01,   7.99297881e-01,\n",
       "          0.00000000e+00,   6.31955533e-01,   1.82115149e+00,\n",
       "          8.19677739e-01,   8.52356643e-01,   1.14988144e+00,\n",
       "          4.78712120e-01,  -3.88644316e-01,  -8.87416172e-02,\n",
       "          2.72614986e-01,   3.06178793e-01,  -7.65254997e-01,\n",
       "         -3.24651609e-01,   8.63578593e-01,  -7.51652586e-01,\n",
       "         -7.52320510e-01,  -2.09785127e-01,  -2.35964589e-02,\n",
       "         -2.72147614e-01,  -1.01911285e+00,  -9.92484924e-01,\n",
       "          1.08824640e-01,  -8.25730697e-01,  -5.05669803e-01,\n",
       "         -1.96007519e-01],\n",
       "       [  0.00000000e+00,   2.23105585e+00,   1.64498821e+00,\n",
       "          6.32201010e-01,  -4.01476704e-01,  -1.06993487e-01,\n",
       "          4.41585251e-02,  -1.13335256e-01,   2.62626595e-01,\n",
       "          1.80951128e+00,   7.74825729e-01,  -1.09131798e-01,\n",
       "          1.62128067e-01,  -5.15809126e-01,  -2.27624588e-01,\n",
       "         -1.23111019e-01,   5.25764500e-02,   9.59007376e-01,\n",
       "         -2.48236484e-01,  -3.37249827e-01,   3.95440395e-01,\n",
       "         -7.73811233e-01,  -4.70699179e-01,  -1.14221844e-01,\n",
       "         -3.33797263e-02,  -2.64907483e-01,  -5.77694653e-01,\n",
       "          5.20129582e-02,   1.31086616e-01,  -8.96037481e-01,\n",
       "         -5.35160677e-01,  -4.72323823e-02,   0.00000000e+00,\n",
       "         -5.53926347e-01,  -5.73278598e-01,   4.16979327e-01,\n",
       "         -1.30539799e-01,  -1.16148047e+00,  -7.76421167e-01,\n",
       "          0.00000000e+00,  -6.13436689e-02,  -3.86934891e-01,\n",
       "         -2.45203192e-01,   5.19847088e-01,  -1.15171443e-01,\n",
       "         -8.68571637e-01,  -5.79909660e-01,  -6.90175991e-02,\n",
       "         -3.54332626e-02,   7.24759933e-01,   6.40493341e-01,\n",
       "          4.15244800e-01,   1.97027143e-01,  -4.83988487e-02,\n",
       "          1.52017945e-01,  -1.17409760e-01,  -2.35964589e-02,\n",
       "          2.07573937e+00,   1.65485439e+00,   4.28629039e-01,\n",
       "         -2.58646480e-01,   7.69845921e-02,   4.05775399e-01,\n",
       "         -1.27566753e-01],\n",
       "       [  0.00000000e+00,  -3.35016487e-01,  -8.51658457e-01,\n",
       "         -1.41536919e-01,  -5.31531528e-01,  -7.44524504e-01,\n",
       "         -3.96281888e-01,  -1.25022923e-01,  -5.90775571e-02,\n",
       "         -6.04776930e-01,  -5.74571568e-01,   6.43013714e-01,\n",
       "         -8.85662429e-01,  -1.19322633e+00,  -4.99409620e-01,\n",
       "         -1.30433381e-01,  -4.46250733e-02,  -5.05764272e-01,\n",
       "          4.72652517e-01,   3.98979161e-01,  -1.01753943e+00,\n",
       "         -1.22932456e+00,  -5.47091239e-01,  -1.14221844e-01,\n",
       "         -3.33797263e-02,  -2.67660520e-02,   7.34309727e-01,\n",
       "         -1.52006315e-01,  -9.81863195e-01,  -9.43685182e-01,\n",
       "         -6.00094562e-01,  -4.72323823e-02,   0.00000000e+00,\n",
       "          3.52011791e-01,   1.10669963e+00,   6.06340549e-01,\n",
       "          3.27756072e-01,   2.93960102e-01,  -3.12220785e-02,\n",
       "          0.00000000e+00,  -6.13436689e-02,   1.11523627e-01,\n",
       "          1.18312362e+00,   5.20662049e-01,  -3.72568750e-01,\n",
       "          3.41110920e-01,   1.36036909e+00,   6.74875395e-01,\n",
       "         -3.54332626e-02,  -2.94766066e-01,   4.97240876e-01,\n",
       "          5.74618951e-01,  -7.89952145e-01,   4.04188413e-01,\n",
       "          1.47809297e+00,   3.29501234e-01,  -2.35964589e-02,\n",
       "         -2.99081347e-01,  -8.04665711e-01,  -2.93717818e-01,\n",
       "          6.67284893e-01,   1.07890511e+00,   6.28203298e-01,\n",
       "         -1.44936397e-01],\n",
       "       [  0.00000000e+00,  -3.35016487e-01,  -8.19278076e-01,\n",
       "         -7.89394466e-01,   9.98045922e-02,   8.11576493e-01,\n",
       "          2.87795387e+00,   5.69362201e+00,  -5.90775571e-02,\n",
       "         -6.02425642e-01,  -7.32204721e-01,   6.38217592e-01,\n",
       "         -1.88240602e-01,  -6.89487596e-02,   3.41867046e+00,\n",
       "          6.91039575e+00,  -4.46250733e-02,  -5.82975763e-01,\n",
       "          4.73252178e-02,   9.63547480e-02,  -9.26242544e-01,\n",
       "          4.23884257e-02,   3.42961315e+00,   4.44703712e+00,\n",
       "         -3.33797263e-02,  -5.06497864e-02,   3.13912885e-01,\n",
       "         -3.97634974e-01,  -4.19855812e-01,   1.13949825e+00,\n",
       "          1.38275348e+00,   2.14785187e+00,   0.00000000e+00,\n",
       "         -4.80084702e-02,   7.98982209e-02,  -1.04999249e-01,\n",
       "          2.68877479e-01,   7.54538332e-01,   2.56501924e-02,\n",
       "          0.00000000e+00,  -6.13436689e-02,  -3.92473301e-01,\n",
       "         -6.67707681e-01,  -2.49622976e-01,   7.02604017e-01,\n",
       "         -2.47441785e-01,  -7.02702415e-01,  -8.87416172e-02,\n",
       "         -3.54332626e-02,  -4.03574986e-01,  -1.22644706e+00,\n",
       "         -3.47353651e-01,   4.28898133e-01,  -1.09803161e+00,\n",
       "         -7.57435810e-01,  -2.09785127e-01,  -2.35964589e-02,\n",
       "         -2.99081347e-01,  -7.85218834e-01,  -2.64778551e-01,\n",
       "         -8.84092193e-01,  -1.05896428e+00,  -5.05669803e-01,\n",
       "         -1.96007519e-01]])"
      ]
     },
     "execution_count": 10,
     "metadata": {},
     "output_type": "execute_result"
    }
   ],
   "source": [
    "model.cluster_centers_"
   ]
  },
  {
   "cell_type": "code",
   "execution_count": 11,
   "metadata": {},
   "outputs": [
    {
     "data": {
      "text/plain": [
       "<matplotlib.image.AxesImage at 0x7f07078b6290>"
      ]
     },
     "execution_count": 11,
     "metadata": {},
     "output_type": "execute_result"
    },
    {
     "data": {
      "image/png": "[encoded data removed]",
      "text/plain": [
       "<matplotlib.figure.Figure at 0x7f07095e7150>"
      ]
     },
     "metadata": {},
     "output_type": "display_data"
    }
   ],
   "source": [
    "import matplotlib.pyplot as plt\n",
    "%matplotlib inline\n",
    "plt.imshow(digits.images[1], cmap='gray')"
   ]
  },
  {
   "cell_type": "code",
   "execution_count": 12,
   "metadata": {},
   "outputs": [
    {
     "data": {
      "text/plain": [
       "array([2], dtype=int32)"
      ]
     },
     "execution_count": 12,
     "metadata": {},
     "output_type": "execute_result"
    }
   ],
   "source": [
    "model.predict(dataset[1].reshape(1,-1)) #should be one"
   ]
  },
  {
   "cell_type": "code",
   "execution_count": 13,
   "metadata": {},
   "outputs": [
    {
     "data": {
      "text/plain": [
       "<matplotlib.image.AxesImage at 0x7f07077a6a50>"
      ]
     },
     "execution_count": 13,
     "metadata": {},
     "output_type": "execute_result"
    },
    {
     "data": {
      "image/png": "[encoded data removed]",
      "text/plain": [
       "<matplotlib.figure.Figure at 0x7f070780c150>"
      ]
     },
     "metadata": {},
     "output_type": "display_data"
    }
   ],
   "source": [
    "plt.imshow(digits.images[333], cmap='gray')"
   ]
  },
  {
   "cell_type": "code",
   "execution_count": 14,
   "metadata": {},
   "outputs": [
    {
     "data": {
      "text/plain": [
       "array([7], dtype=int32)"
      ]
     },
     "execution_count": 14,
     "metadata": {},
     "output_type": "execute_result"
    }
   ],
   "source": [
    "model.predict(dataset[333].reshape(1,-1))  #should be 2"
   ]
  },
  {
   "cell_type": "code",
   "execution_count": 18,
   "metadata": {},
   "outputs": [
    {
     "data": {
      "text/plain": [
       "<matplotlib.image.AxesImage at 0x7f070709c250>"
      ]
     },
     "execution_count": 18,
     "metadata": {},
     "output_type": "execute_result"
    },
    {
     "data": {
      "image/png": "[encoded data removed]",
      "text/plain": [
       "<matplotlib.figure.Figure at 0x7f070718b850>"
      ]
     },
     "metadata": {},
     "output_type": "display_data"
    }
   ],
   "source": [
    "plt.imshow(digits.images[1], cmap='gray')"
   ]
  }
 ],
 "metadata": {
  "kernelspec": {
   "display_name": "Python 2",
   "language": "python",
   "name": "python2"
  },
  "language_info": {
   "codemirror_mode": {
    "name": "ipython",
    "version": 2
   },
   "file_extension": ".py",
   "mimetype": "text/x-python",
   "name": "python",
   "nbconvert_exporter": "python",
   "pygments_lexer": "ipython2",
   "version": "2.7.12"
  }
 },
 "nbformat": 4,
 "nbformat_minor": 2
}
