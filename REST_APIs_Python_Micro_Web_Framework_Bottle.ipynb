{
 "cells": [
  {
   "cell_type": "code",
   "execution_count": null,
   "metadata": {
    "collapsed": true
   },
   "outputs": [],
   "source": [
    "# REST : REpresentational State Transfer\n",
    "\n",
    "# REST is resource based\n",
    "#   --> Things vs objects\n",
    "#   --> Nouns vs verbs\n",
    "#   --> Indentified by URIs\n",
    "#   --> Separate from representation(s)\n",
    "\n",
    "# Representation\n",
    "#   --> Typically in JSON or XML\n",
    "\n",
    "# Constraints of RESTful architectures\n",
    "#   --> Uniform interface\n",
    "#   --> Statelessness\n",
    "#   --> Client-server architecture\n",
    "#   --> Cacheable\n",
    "#   --> Layered system\n",
    "#   --> Code on demand (optional)\n",
    "\n",
    "# HTTP verbs (GET, PUT, POST, DELETE)"
   ]
  },
  {
   "cell_type": "code",
   "execution_count": null,
   "metadata": {
    "collapsed": true
   },
   "outputs": [],
   "source": [
    "# Setting up Bottle py development environment\n",
    "\n",
    "# pip install bottle"
   ]
  },
  {
   "cell_type": "code",
   "execution_count": null,
   "metadata": {},
   "outputs": [],
   "source": [
    "# Bottle py \"Hello, World\"\n",
    "\n",
    "from bottle import route, run, template, request\n",
    "\n",
    "@route('/hello/<name>')\n",
    "def index(name):\n",
    "    return template('<b>Hello {{name}}</b>!', name=name)\n",
    "\n",
    "run(host='localhost', port=8080)"
   ]
  },
  {
   "cell_type": "code",
   "execution_count": null,
   "metadata": {
    "collapsed": true
   },
   "outputs": [],
   "source": [
    "# User register and login API\n",
    "\n",
    "# MongoDB document structure\n",
    "# {'username': '', 'password': ''}\n",
    "\n",
    "from pymongo import MongoClient\n",
    "from bson.json_util import dumps\n",
    "import json\n",
    "\n",
    "client = MongoClient()\n",
    "db = client.test\n",
    "\n",
    "@post('/reg')\n",
    "def reg():\n",
    "    username = request.forms.get('username')\n",
    "    password = request.forms.get('password')\n",
    "    \n",
    "    cur = db.users.find({'username': username})\n",
    "    data = json.loads(dumps(cur))\n",
    "    \n",
    "    if(len(data) != 0):\n",
    "        return {'status': 'User exists'}\n",
    "    else:\n",
    "        return {'status': 'User registered!', 'username': 'username'}\n",
    "    \n",
    "@get('/login') # or @route('/login')\n",
    "def login():\n",
    "    return '''\n",
    "        <form action=\"/login\" method=\"post\">\n",
    "            Username: <input name=\"username\" type=\"text\" />\n",
    "            Password: <input name=\"password\" type=\"password\" />\n",
    "            <input value=\"Login\" type=\"submit\" />\n",
    "        </form>\n",
    "    '''\n",
    "\n",
    "@post('/login')\n",
    "def login():\n",
    "    username = request.forms.get('username')\n",
    "    password = request.forms.get('password')\n",
    "    \n",
    "    cur = db.users.find({'username': username})\n",
    "    data = json.loads(dumps(cur))\n",
    "    \n",
    "    if(len(data) != 0):\n",
    "        if(data[0]['password'] == password):\n",
    "            return {'status': 'User authenticated!', 'username': username}\n",
    "        else:\n",
    "            return {'status': 'Invalid credentials'}\n",
    "    else:\n",
    "        return {'status': \"User dosen't exist\"}"
   ]
  },
  {
   "cell_type": "code",
   "execution_count": null,
   "metadata": {
    "collapsed": true
   },
   "outputs": [],
   "source": [
    "# Routing static files\n",
    "\n",
    "from bottle import static_file\n",
    "\n",
    "@route('/static/<filename>')\n",
    "def server_static(filename):\n",
    "    return static_file(filename, root='/path/to/your/static/files')"
   ]
  },
  {
   "cell_type": "code",
   "execution_count": null,
   "metadata": {
    "collapsed": true
   },
   "outputs": [],
   "source": [
    "# Handling error pages and redirects\n",
    "\n",
    "from bottle import error, abort\n",
    "\n",
    "@error(404)\n",
    "def error404(error):\n",
    "    return 'Nothing here, sorry'\n",
    "\n",
    "@route('/restricted')\n",
    "def restricted():\n",
    "    abort(401, \"Sorry, access denied.\")"
   ]
  },
  {
   "cell_type": "code",
   "execution_count": null,
   "metadata": {
    "collapsed": true
   },
   "outputs": [],
   "source": [
    "# Response object : status code, headers and cookies\n",
    "\n",
    "# HTTP status codes\n",
    "#    1xx Informational responses\n",
    "#    2xx Success\n",
    "#    3xx Redirection\n",
    "#    4xx Client errors\n",
    "#    5xx Server errors"
   ]
  },
  {
   "cell_type": "code",
   "execution_count": null,
   "metadata": {
    "collapsed": true
   },
   "outputs": [],
   "source": [
    "# Cookies in Bottle\n",
    "\n",
    "@route('/hello')\n",
    "def hello_again():\n",
    "    if request.get_cookie(\"visited\"):\n",
    "        return \"Welcome back! Nice to see you again\"\n",
    "    else:\n",
    "        response.set_cookie(\"visited\", \"yes\")\n",
    "        return \"Hello there! Nice to meet you\"\n"
   ]
  },
  {
   "cell_type": "code",
   "execution_count": null,
   "metadata": {
    "collapsed": true
   },
   "outputs": [],
   "source": [
    "# Headers in Bottle\n",
    "\n",
    "@route('/wiki/<page>')\n",
    "def wiki(page):\n",
    "    response.set_header('Content-Language', 'en')\n",
    "    response.set_header('Set-Cookie', 'name=value')"
   ]
  },
  {
   "cell_type": "code",
   "execution_count": null,
   "metadata": {
    "collapsed": true
   },
   "outputs": [],
   "source": [
    "# Templates in Bottle py\n",
    "\n",
    "# Example\n",
    "# %if name == 'World':\n",
    "#     <h1>Hello {{name}}!</h1>\n",
    "#     <p>This is a test.</p>\n",
    "# %else:\n",
    "#     <h1>Hello {{name.title()}}!</h1>\n",
    "#     <p>How are you?</p>\n",
    "# %end\n",
    "\n",
    "@route('/template_test/<val>')\n",
    "def temp_test(val):\n",
    "    return template('template_name_with_path', name=val)"
   ]
  }
 ],
 "metadata": {
  "kernelspec": {
   "display_name": "Python 2",
   "language": "python",
   "name": "python2"
  },
  "language_info": {
   "codemirror_mode": {
    "name": "ipython",
    "version": 2
   },
   "file_extension": ".py",
   "mimetype": "text/x-python",
   "name": "python",
   "nbconvert_exporter": "python",
   "pygments_lexer": "ipython2",
   "version": "2.7.12"
  }
 },
 "nbformat": 4,
 "nbformat_minor": 2
}
